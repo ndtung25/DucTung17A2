{
 "cells": [
  {
   "cell_type": "markdown",
   "metadata": {},
   "source": [
    "2.2.1"
   ]
  },
  {
   "cell_type": "code",
   "execution_count": null,
   "metadata": {},
   "outputs": [],
   "source": [
    "import numpy as np\n",
    "import csv\n",
    "\n",
    "# Đọc dữ liệu từ file CSV\n",
    "filename = 'diem_hoc_phan.csv'\n",
    "\n",
    "data = []\n",
    "with open(filename, 'r', encoding='utf-8') as file:\n",
    "    reader = csv.reader(file)\n",
    "    next(reader)  # Bỏ qua header\n",
    "    for row in reader:\n",
    "        data.append(row)\n",
    "\n",
    "# Chuyển đổi list sang numpy array\n",
    "data_array = np.array(data)\n",
    "\n",
    "# Tách các cột điểm HP1, HP2, HP3 (giả sử cột đầu là ID, cột 2 là tên sinh viên)\n",
    "scores = data_array[:, 2:].astype(float)\n",
    "print(scores)\n"
   ]
  },
  {
   "cell_type": "markdown",
   "metadata": {},
   "source": [
    "2.2.2"
   ]
  },
  {
   "cell_type": "code",
   "execution_count": null,
   "metadata": {},
   "outputs": [],
   "source": [
    "def convert_grade(score):\n",
    "    if 8.5 <= score <= 10:\n",
    "        return 'A'\n",
    "    elif 8.0 <= score <= 8.4:\n",
    "        return 'B+'\n",
    "    elif 7.0 <= score < 8.0:\n",
    "        return 'B'\n",
    "    elif 6.5 <= score < 7.0:\n",
    "        return 'C+'\n",
    "    elif 5.5 <= score < 6.0:\n",
    "        return 'C'\n",
    "    elif 5.0 <= score < 5.5:\n",
    "        return 'D+'\n",
    "    elif 4.0 <= score < 5.0:\n",
    "        return 'D'\n",
    "    else:\n",
    "        return 'F'\n",
    "\n",
    "vectorized_convert_grade = np.vectorize(convert_grade)\n",
    "grades = vectorized_convert_grade(scores)\n",
    "print(grades)"
   ]
  },
  {
   "cell_type": "markdown",
   "metadata": {},
   "source": [
    "2.2.3"
   ]
  },
  {
   "cell_type": "code",
   "execution_count": null,
   "metadata": {},
   "outputs": [],
   "source": [
    "hp1, hp2, hp3 = scores[:, 0], scores[:, 1], scores[:, 2]\n",
    "print(\"HP1:\", hp1)\n",
    "print(\"HP2:\", hp2)\n",
    "print(\"HP3:\", hp3)"
   ]
  },
  {
   "cell_type": "markdown",
   "metadata": {},
   "source": [
    "2.2.4"
   ]
  },
  {
   "cell_type": "code",
   "execution_count": null,
   "metadata": {},
   "outputs": [],
   "source": [
    "for i, hp in enumerate([hp1, hp2, hp3], start=1):\n",
    "    print(f\"Học phần {i}:\")\n",
    "    print(f\"Tổng: {np.sum(hp):.2f}\")\n",
    "    print(f\"Trung bình: {np.mean(hp):.2f}\")\n",
    "    print(f\"Độ lệch chuẩn: {np.std(hp):.2f}\")"
   ]
  },
  {
   "cell_type": "markdown",
   "metadata": {},
   "source": [
    "2.2.5"
   ]
  },
  {
   "cell_type": "code",
   "execution_count": null,
   "metadata": {},
   "outputs": [],
   "source": [
    "unique, counts = np.unique(grades, return_counts=True)\n",
    "grade_summary = dict(zip(unique, counts))\n",
    "print(\"Phân tích điểm tổng hợp:\")\n",
    "print(grade_summary)"
   ]
  }
 ],
 "metadata": {
  "kernelspec": {
   "display_name": "Python 3",
   "language": "python",
   "name": "python3"
  },
  "language_info": {
   "codemirror_mode": {
    "name": "ipython",
    "version": 3
   },
   "file_extension": ".py",
   "mimetype": "text/x-python",
   "name": "python",
   "nbconvert_exporter": "python",
   "pygments_lexer": "ipython3",
   "version": "3.11.4"
  }
 },
 "nbformat": 4,
 "nbformat_minor": 2
}
