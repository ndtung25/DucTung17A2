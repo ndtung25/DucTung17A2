{
 "cells": [
  {
   "cell_type": "markdown",
   "metadata": {
    "vscode": {
     "languageId": "plaintext"
    }
   },
   "source": [
    "1.Tạo dữ liệu nhiệt độ"
   ]
  },
  {
   "cell_type": "code",
   "execution_count": 1,
   "metadata": {},
   "outputs": [
    {
     "name": "stdout",
     "output_type": "stream",
     "text": [
      "Dữ liệu nhiệt độ hàng ngày trong tháng: [22.49 34.01 29.64 26.97 18.12 18.12 16.16 32.32 27.02 29.16 15.41 34.4\n",
      " 31.65 19.25 18.64 18.67 21.08 25.5  23.64 20.82 27.24 17.79 20.84 22.33\n",
      " 24.12 30.7  18.99 25.28 26.85 15.93]\n",
      "Nhiệt độ trung bình trong tháng: 23.77\n"
     ]
    }
   ],
   "source": [
    "import numpy as np\n",
    "\n",
    "# Tạo mảng dữ liệu nhiệt độ hàng ngày trong một tháng và làm tròn đến 2 chữ số\n",
    "np.random.seed(42)  # Để tái tạo kết quả giống nhau\n",
    "temperature_data = np.random.uniform(low=15, high=35, size=30).round(2)\n",
    "\n",
    "# Tính nhiệt độ trung bình trong tháng\n",
    "average_temperature = np.mean(temperature_data)\n",
    "\n",
    "# In kết quả\n",
    "print(\"Dữ liệu nhiệt độ hàng ngày trong tháng:\", temperature_data)\n",
    "print(\"Nhiệt độ trung bình trong tháng:\", round(average_temperature, 2))"
   ]
  }
 ],
 "metadata": {
  "kernelspec": {
   "display_name": "Python 3",
   "language": "python",
   "name": "python3"
  },
  "language_info": {
   "codemirror_mode": {
    "name": "ipython",
    "version": 3
   },
   "file_extension": ".py",
   "mimetype": "text/x-python",
   "name": "python",
   "nbconvert_exporter": "python",
   "pygments_lexer": "ipython3",
   "version": "3.12.0"
  }
 },
 "nbformat": 4,
 "nbformat_minor": 2
}
