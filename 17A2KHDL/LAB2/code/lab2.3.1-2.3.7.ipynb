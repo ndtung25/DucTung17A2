{
 "cells": [
  {
   "cell_type": "code",
   "execution_count": 1,
   "metadata": {},
   "outputs": [],
   "source": [
    "import numpy as np"
   ]
  },
  {
   "cell_type": "markdown",
   "metadata": {},
   "source": [
    "2.3.1"
   ]
  },
  {
   "cell_type": "code",
   "execution_count": 2,
   "metadata": {},
   "outputs": [
    {
     "name": "stdout",
     "output_type": "stream",
     "text": [
      "[94.0, 97.0, 114.0, 117.0, 117.0, 59.0, 133.0, 71.0, 86.0, 137.0, 120.0, 138.0, 138.0, 62.0, 108.0, 115.0, 89.0, 137.0, 96.0, 138.0, 131.0, 87.0, 75.0, 127.0, 122.0, 59.0, 70.0, 130.0, 119.0, 129.0, 97.0, 114.0, 132.0, 149.0, 138.0, 99.0, 79.0, 69.0, 69.0, 64.0, 89.0, 82.0, 115.0, 59.0, 107.0, 82.0, 81.0, 124.0, 73.0, 85.0, 125.0, 105.0, 78.0, 84.0, 50.0, 50.0, 86.0, 103.0, 55.0, 88.0, 67.0, 129.0, 54.0, 92.0, 108.0, 81.0, 51.0, 115.0, 91.0, 107.0, 85.0, 61.0, 96.0, 132.0, 141.0, 50.0, 64.0, 149.0, 103.0, 62.0, 92.0, 134.0, 125.0, 118.0, 56.0, 118.0, 97.0, 53.0, 126.0, 102.0, 128.0, 65.0, 70.0, 149.0, 108.0, 73.0, 129.0, 63.0, 135.0, 98.0]\n",
      "['Afternoon', 'Afternoon', 'Afternoon', 'Morning', 'Afternoon', 'Night', 'Morning', 'Afternoon', 'Night', 'Morning', 'Night', 'Morning', 'Afternoon', 'Night', 'Night', 'Afternoon', 'Morning', 'Afternoon', 'Afternoon', 'Morning', 'Night', 'Night', 'Night', 'Night', 'Afternoon', 'Night', 'Night', 'Night', 'Night', 'Night', 'Morning', 'Afternoon', 'Night', 'Night', 'Afternoon', 'Night', 'Afternoon', 'Morning', 'Night', 'Night', 'Morning', 'Night', 'Morning', 'Morning', 'Night', 'Morning', 'Night', 'Night', 'Night', 'Morning', 'Morning', 'Morning', 'Afternoon', 'Night', 'Morning', 'Afternoon', 'Night', 'Night', 'Night', 'Afternoon', 'Morning', 'Morning', 'Morning', 'Morning', 'Night', 'Night', 'Morning', 'Morning', 'Morning', 'Afternoon', 'Night', 'Morning', 'Morning', 'Afternoon', 'Morning', 'Night', 'Afternoon', 'Afternoon', 'Afternoon', 'Morning', 'Morning', 'Morning', 'Afternoon', 'Afternoon', 'Night', 'Afternoon', 'Morning', 'Morning', 'Afternoon', 'Night', 'Afternoon', 'Afternoon', 'Afternoon', 'Morning', 'Morning', 'Morning', 'Afternoon', 'Night', 'Afternoon', 'Afternoon']\n"
     ]
    }
   ],
   "source": [
    "efficiency_file = 'efficiency.txt'\n",
    "shifts_file = 'shifts.txt'\n",
    "\n",
    "# Đọc dữ liệu\n",
    "with open(efficiency_file, 'r') as f:\n",
    "    efficiency = [float(line.strip()) for line in f]\n",
    "\n",
    "with open(shifts_file, 'r') as f:\n",
    "    shifts = [line.strip() for line in f]\n",
    "\n",
    "print(efficiency)\n",
    "print(shifts)"
   ]
  },
  {
   "cell_type": "markdown",
   "metadata": {},
   "source": [
    "2.3.2+2.3.3"
   ]
  },
  {
   "cell_type": "code",
   "execution_count": 3,
   "metadata": {},
   "outputs": [
    {
     "name": "stdout",
     "output_type": "stream",
     "text": [
      "float64\n",
      "<U9\n"
     ]
    }
   ],
   "source": [
    "np_efficiency = np.array(efficiency)\n",
    "np_shifts = np.array(shifts)\n",
    "\n",
    "print(np_efficiency.dtype)  # Kiểm tra kiểu dữ liệu\n",
    "print(np_shifts.dtype)"
   ]
  },
  {
   "cell_type": "markdown",
   "metadata": {},
   "source": [
    "2.3.4"
   ]
  },
  {
   "cell_type": "code",
   "execution_count": 4,
   "metadata": {},
   "outputs": [
    {
     "name": "stdout",
     "output_type": "stream",
     "text": [
      "Hiệu suất trung bình ca sáng: 96.85\n"
     ]
    }
   ],
   "source": [
    "morning_efficiency = np_efficiency[np_shifts == 'Morning']\n",
    "morning_avg = np.mean(morning_efficiency)\n",
    "print(f\"Hiệu suất trung bình ca sáng: {morning_avg:.2f}\")"
   ]
  },
  {
   "cell_type": "markdown",
   "metadata": {},
   "source": [
    "2.3.5"
   ]
  },
  {
   "cell_type": "code",
   "execution_count": 5,
   "metadata": {},
   "outputs": [
    {
     "name": "stdout",
     "output_type": "stream",
     "text": [
      "Hiệu suất trung bình các ca khác: 98.94\n"
     ]
    }
   ],
   "source": [
    "non_morning_efficiency = np_efficiency[np_shifts != 'Morning']\n",
    "non_morning_avg = np.mean(non_morning_efficiency)\n",
    "print(f\"Hiệu suất trung bình các ca khác: {non_morning_avg:.2f}\")"
   ]
  },
  {
   "cell_type": "markdown",
   "metadata": {},
   "source": [
    "2.3.6"
   ]
  },
  {
   "cell_type": "code",
   "execution_count": 6,
   "metadata": {},
   "outputs": [
    {
     "name": "stdout",
     "output_type": "stream",
     "text": [
      "[('Afternoon',  94.) ('Afternoon',  97.) ('Afternoon', 114.)\n",
      " ('Morning', 117.) ('Afternoon', 117.) ('Night',  59.) ('Morning', 133.)\n",
      " ('Afternoon',  71.) ('Night',  86.) ('Morning', 137.) ('Night', 120.)\n",
      " ('Morning', 138.) ('Afternoon', 138.) ('Night',  62.) ('Night', 108.)\n",
      " ('Afternoon', 115.) ('Morning',  89.) ('Afternoon', 137.)\n",
      " ('Afternoon',  96.) ('Morning', 138.) ('Night', 131.) ('Night',  87.)\n",
      " ('Night',  75.) ('Night', 127.) ('Afternoon', 122.) ('Night',  59.)\n",
      " ('Night',  70.) ('Night', 130.) ('Night', 119.) ('Night', 129.)\n",
      " ('Morning',  97.) ('Afternoon', 114.) ('Night', 132.) ('Night', 149.)\n",
      " ('Afternoon', 138.) ('Night',  99.) ('Afternoon',  79.) ('Morning',  69.)\n",
      " ('Night',  69.) ('Night',  64.) ('Morning',  89.) ('Night',  82.)\n",
      " ('Morning', 115.) ('Morning',  59.) ('Night', 107.) ('Morning',  82.)\n",
      " ('Night',  81.) ('Night', 124.) ('Night',  73.) ('Morning',  85.)\n",
      " ('Morning', 125.) ('Morning', 105.) ('Afternoon',  78.) ('Night',  84.)\n",
      " ('Morning',  50.) ('Afternoon',  50.) ('Night',  86.) ('Night', 103.)\n",
      " ('Night',  55.) ('Afternoon',  88.) ('Morning',  67.) ('Morning', 129.)\n",
      " ('Morning',  54.) ('Morning',  92.) ('Night', 108.) ('Night',  81.)\n",
      " ('Morning',  51.) ('Morning', 115.) ('Morning',  91.) ('Afternoon', 107.)\n",
      " ('Night',  85.) ('Morning',  61.) ('Morning',  96.) ('Afternoon', 132.)\n",
      " ('Morning', 141.) ('Night',  50.) ('Afternoon',  64.) ('Afternoon', 149.)\n",
      " ('Afternoon', 103.) ('Morning',  62.) ('Morning',  92.) ('Morning', 134.)\n",
      " ('Afternoon', 125.) ('Afternoon', 118.) ('Night',  56.)\n",
      " ('Afternoon', 118.) ('Morning',  97.) ('Morning',  53.)\n",
      " ('Afternoon', 126.) ('Night', 102.) ('Afternoon', 128.)\n",
      " ('Afternoon',  65.) ('Afternoon',  70.) ('Morning', 149.)\n",
      " ('Morning', 108.) ('Morning',  73.) ('Afternoon', 129.) ('Night',  63.)\n",
      " ('Afternoon', 135.) ('Afternoon',  98.)]\n"
     ]
    }
   ],
   "source": [
    "workers = np.array(\n",
    "    list(zip(np_shifts, np_efficiency)),\n",
    "    dtype=[('shift', 'U10'), ('efficiency', 'float')]\n",
    ")\n",
    "print(workers)"
   ]
  },
  {
   "cell_type": "markdown",
   "metadata": {},
   "source": [
    "2.3.7"
   ]
  },
  {
   "cell_type": "code",
   "execution_count": 7,
   "metadata": {},
   "outputs": [
    {
     "name": "stdout",
     "output_type": "stream",
     "text": [
      "Nhân viên có hiệu suất cao nhất:\n",
      "('Night', 149.0)\n",
      "Nhân viên có hiệu suất thấp nhất:\n",
      "('Afternoon', 50.0)\n"
     ]
    }
   ],
   "source": [
    "sorted_workers = np.sort(workers, order='efficiency')\n",
    "print(\"Nhân viên có hiệu suất cao nhất:\")\n",
    "print(sorted_workers[-1])\n",
    "print(\"Nhân viên có hiệu suất thấp nhất:\")\n",
    "print(sorted_workers[0])"
   ]
  }
 ],
 "metadata": {
  "kernelspec": {
   "display_name": "Python 3",
   "language": "python",
   "name": "python3"
  },
  "language_info": {
   "codemirror_mode": {
    "name": "ipython",
    "version": 3
   },
   "file_extension": ".py",
   "mimetype": "text/x-python",
   "name": "python",
   "nbconvert_exporter": "python",
   "pygments_lexer": "ipython3",
   "version": "3.11.4"
  }
 },
 "nbformat": 4,
 "nbformat_minor": 2
}
